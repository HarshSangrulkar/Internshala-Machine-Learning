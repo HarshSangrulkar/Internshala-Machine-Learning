{
 "cells": [
  {
   "cell_type": "code",
   "execution_count": 1,
   "metadata": {
    "colab": {},
    "colab_type": "code",
    "id": "hNoSl4avU_FY"
   },
   "outputs": [],
   "source": [
    "import numpy as np\n",
    "import pandas as pd\n",
    "import matplotlib.pyplot as plt\n",
    "import warnings\n",
    "warnings.filterwarnings('ignore')"
   ]
  },
  {
   "cell_type": "code",
   "execution_count": 2,
   "metadata": {
    "colab": {},
    "colab_type": "code",
    "id": "A8fIKgQF3Ubs"
   },
   "outputs": [],
   "source": [
    "data = pd.read_csv('1. Regression - Module - (Housing Prices).csv')"
   ]
  },
  {
   "cell_type": "code",
   "execution_count": 3,
   "metadata": {
    "colab": {
     "base_uri": "https://localhost:8080/",
     "height": 496
    },
    "colab_type": "code",
    "executionInfo": {
     "elapsed": 1321,
     "status": "ok",
     "timestamp": 1569305106184,
     "user": {
      "displayName": "Sharoon Saxena",
      "photoUrl": "https://lh3.googleusercontent.com/a-/AAuE7mA06b2KEfgpAIC1tQCip2ka2KqXrCY2GfWW9Fww=s64",
      "userId": "01167841530696023488"
     },
     "user_tz": -330
    },
    "id": "nZklpIIBcrdr",
    "outputId": "272e52ca-7922-4fde-9e68-461544242a70"
   },
   "outputs": [
    {
     "data": {
      "text/html": [
       "<div>\n",
       "<style scoped>\n",
       "    .dataframe tbody tr th:only-of-type {\n",
       "        vertical-align: middle;\n",
       "    }\n",
       "\n",
       "    .dataframe tbody tr th {\n",
       "        vertical-align: top;\n",
       "    }\n",
       "\n",
       "    .dataframe thead th {\n",
       "        text-align: right;\n",
       "    }\n",
       "</style>\n",
       "<table border=\"1\" class=\"dataframe\">\n",
       "  <thead>\n",
       "    <tr style=\"text-align: right;\">\n",
       "      <th></th>\n",
       "      <th>ID</th>\n",
       "      <th>Date House was Sold</th>\n",
       "      <th>Sale Price</th>\n",
       "      <th>No of Bedrooms</th>\n",
       "      <th>No of Bathrooms</th>\n",
       "      <th>Flat Area (in Sqft)</th>\n",
       "      <th>Lot Area (in Sqft)</th>\n",
       "      <th>No of Floors</th>\n",
       "      <th>Waterfront View</th>\n",
       "      <th>No of Times Visited</th>\n",
       "      <th>...</th>\n",
       "      <th>Overall Grade</th>\n",
       "      <th>Area of the House from Basement (in Sqft)</th>\n",
       "      <th>Basement Area (in Sqft)</th>\n",
       "      <th>Age of House (in Years)</th>\n",
       "      <th>Renovated Year</th>\n",
       "      <th>Zipcode</th>\n",
       "      <th>Latitude</th>\n",
       "      <th>Longitude</th>\n",
       "      <th>Living Area after Renovation (in Sqft)</th>\n",
       "      <th>Lot Area after Renovation (in Sqft)</th>\n",
       "    </tr>\n",
       "  </thead>\n",
       "  <tbody>\n",
       "    <tr>\n",
       "      <th>0</th>\n",
       "      <td>7129300520</td>\n",
       "      <td>14 October 2017</td>\n",
       "      <td>221900.0</td>\n",
       "      <td>3</td>\n",
       "      <td>1.00</td>\n",
       "      <td>1180.0</td>\n",
       "      <td>5650.0</td>\n",
       "      <td>1.0</td>\n",
       "      <td>No</td>\n",
       "      <td>None</td>\n",
       "      <td>...</td>\n",
       "      <td>7</td>\n",
       "      <td>1180.0</td>\n",
       "      <td>0</td>\n",
       "      <td>63</td>\n",
       "      <td>0</td>\n",
       "      <td>98178.0</td>\n",
       "      <td>47.5112</td>\n",
       "      <td>-122.257</td>\n",
       "      <td>1340.0</td>\n",
       "      <td>5650</td>\n",
       "    </tr>\n",
       "    <tr>\n",
       "      <th>1</th>\n",
       "      <td>6414100192</td>\n",
       "      <td>14 December 2017</td>\n",
       "      <td>538000.0</td>\n",
       "      <td>3</td>\n",
       "      <td>2.25</td>\n",
       "      <td>2570.0</td>\n",
       "      <td>7242.0</td>\n",
       "      <td>2.0</td>\n",
       "      <td>No</td>\n",
       "      <td>None</td>\n",
       "      <td>...</td>\n",
       "      <td>7</td>\n",
       "      <td>2170.0</td>\n",
       "      <td>400</td>\n",
       "      <td>67</td>\n",
       "      <td>1991</td>\n",
       "      <td>98125.0</td>\n",
       "      <td>47.7210</td>\n",
       "      <td>-122.319</td>\n",
       "      <td>1690.0</td>\n",
       "      <td>7639</td>\n",
       "    </tr>\n",
       "    <tr>\n",
       "      <th>2</th>\n",
       "      <td>5631500400</td>\n",
       "      <td>15 February 2016</td>\n",
       "      <td>180000.0</td>\n",
       "      <td>2</td>\n",
       "      <td>1.00</td>\n",
       "      <td>770.0</td>\n",
       "      <td>10000.0</td>\n",
       "      <td>1.0</td>\n",
       "      <td>No</td>\n",
       "      <td>None</td>\n",
       "      <td>...</td>\n",
       "      <td>6</td>\n",
       "      <td>770.0</td>\n",
       "      <td>0</td>\n",
       "      <td>85</td>\n",
       "      <td>0</td>\n",
       "      <td>98028.0</td>\n",
       "      <td>47.7379</td>\n",
       "      <td>-122.233</td>\n",
       "      <td>2720.0</td>\n",
       "      <td>8062</td>\n",
       "    </tr>\n",
       "    <tr>\n",
       "      <th>3</th>\n",
       "      <td>2487200875</td>\n",
       "      <td>14 December 2017</td>\n",
       "      <td>604000.0</td>\n",
       "      <td>4</td>\n",
       "      <td>3.00</td>\n",
       "      <td>1960.0</td>\n",
       "      <td>5000.0</td>\n",
       "      <td>1.0</td>\n",
       "      <td>No</td>\n",
       "      <td>None</td>\n",
       "      <td>...</td>\n",
       "      <td>7</td>\n",
       "      <td>1050.0</td>\n",
       "      <td>910</td>\n",
       "      <td>53</td>\n",
       "      <td>0</td>\n",
       "      <td>98136.0</td>\n",
       "      <td>47.5208</td>\n",
       "      <td>-122.393</td>\n",
       "      <td>1360.0</td>\n",
       "      <td>5000</td>\n",
       "    </tr>\n",
       "    <tr>\n",
       "      <th>4</th>\n",
       "      <td>1954400510</td>\n",
       "      <td>15 February 2016</td>\n",
       "      <td>510000.0</td>\n",
       "      <td>3</td>\n",
       "      <td>2.00</td>\n",
       "      <td>1680.0</td>\n",
       "      <td>8080.0</td>\n",
       "      <td>1.0</td>\n",
       "      <td>No</td>\n",
       "      <td>None</td>\n",
       "      <td>...</td>\n",
       "      <td>8</td>\n",
       "      <td>1680.0</td>\n",
       "      <td>0</td>\n",
       "      <td>31</td>\n",
       "      <td>0</td>\n",
       "      <td>98074.0</td>\n",
       "      <td>47.6168</td>\n",
       "      <td>-122.045</td>\n",
       "      <td>1800.0</td>\n",
       "      <td>7503</td>\n",
       "    </tr>\n",
       "  </tbody>\n",
       "</table>\n",
       "<p>5 rows × 21 columns</p>\n",
       "</div>"
      ],
      "text/plain": [
       "           ID Date House was Sold  Sale Price  No of Bedrooms  \\\n",
       "0  7129300520     14 October 2017    221900.0               3   \n",
       "1  6414100192    14 December 2017    538000.0               3   \n",
       "2  5631500400    15 February 2016    180000.0               2   \n",
       "3  2487200875    14 December 2017    604000.0               4   \n",
       "4  1954400510    15 February 2016    510000.0               3   \n",
       "\n",
       "   No of Bathrooms  Flat Area (in Sqft)  Lot Area (in Sqft)  No of Floors  \\\n",
       "0             1.00               1180.0              5650.0           1.0   \n",
       "1             2.25               2570.0              7242.0           2.0   \n",
       "2             1.00                770.0             10000.0           1.0   \n",
       "3             3.00               1960.0              5000.0           1.0   \n",
       "4             2.00               1680.0              8080.0           1.0   \n",
       "\n",
       "  Waterfront View No of Times Visited  ... Overall Grade  \\\n",
       "0              No                None  ...             7   \n",
       "1              No                None  ...             7   \n",
       "2              No                None  ...             6   \n",
       "3              No                None  ...             7   \n",
       "4              No                None  ...             8   \n",
       "\n",
       "   Area of the House from Basement (in Sqft)  Basement Area (in Sqft)  \\\n",
       "0                                     1180.0                        0   \n",
       "1                                     2170.0                      400   \n",
       "2                                      770.0                        0   \n",
       "3                                     1050.0                      910   \n",
       "4                                     1680.0                        0   \n",
       "\n",
       "   Age of House (in Years)  Renovated Year  Zipcode  Latitude  Longitude  \\\n",
       "0                       63               0  98178.0   47.5112   -122.257   \n",
       "1                       67            1991  98125.0   47.7210   -122.319   \n",
       "2                       85               0  98028.0   47.7379   -122.233   \n",
       "3                       53               0  98136.0   47.5208   -122.393   \n",
       "4                       31               0  98074.0   47.6168   -122.045   \n",
       "\n",
       "   Living Area after Renovation (in Sqft)  Lot Area after Renovation (in Sqft)  \n",
       "0                                  1340.0                                 5650  \n",
       "1                                  1690.0                                 7639  \n",
       "2                                  2720.0                                 8062  \n",
       "3                                  1360.0                                 5000  \n",
       "4                                  1800.0                                 7503  \n",
       "\n",
       "[5 rows x 21 columns]"
      ]
     },
     "execution_count": 3,
     "metadata": {},
     "output_type": "execute_result"
    }
   ],
   "source": [
    "data.head()"
   ]
  },
  {
   "cell_type": "code",
   "execution_count": 4,
   "metadata": {
    "colab": {
     "base_uri": "https://localhost:8080/",
     "height": 170
    },
    "colab_type": "code",
    "executionInfo": {
     "elapsed": 1066,
     "status": "ok",
     "timestamp": 1569305111278,
     "user": {
      "displayName": "Sharoon Saxena",
      "photoUrl": "https://lh3.googleusercontent.com/a-/AAuE7mA06b2KEfgpAIC1tQCip2ka2KqXrCY2GfWW9Fww=s64",
      "userId": "01167841530696023488"
     },
     "user_tz": -330
    },
    "id": "-A3Z1APguU19",
    "outputId": "8b4f8297-82a9-4d16-8c71-5033240be3e9"
   },
   "outputs": [
    {
     "data": {
      "text/plain": [
       "array([98178., 98125., 98028., 98136., 98074., 98053., 98003., 98198.,\n",
       "       98146., 98038., 98007., 98115., 98107., 98126., 98019., 98103.,\n",
       "       98002., 98133., 98040., 98092., 98030., 98119., 98112., 98052.,\n",
       "       98027., 98117., 98058., 98001., 98056., 98166., 98023., 98070.,\n",
       "       98148., 98105., 98042., 98008., 98059., 98122., 98144., 98004.,\n",
       "       98005., 98034., 98075., 98116., 98010., 98118., 98199., 98032.,\n",
       "       98045., 98102., 98077., 98108., 98168., 98177., 98065., 98029.,\n",
       "       98006., 98109., 98022., 98033., 98155., 98024., 98011., 98031.,\n",
       "       98106., 98072., 98188., 98014., 98055.,    nan, 98039.])"
      ]
     },
     "execution_count": 4,
     "metadata": {},
     "output_type": "execute_result"
    }
   ],
   "source": [
    "data['Zipcode'].unique()"
   ]
  },
  {
   "cell_type": "code",
   "execution_count": 5,
   "metadata": {
    "colab": {
     "base_uri": "https://localhost:8080/",
     "height": 34
    },
    "colab_type": "code",
    "executionInfo": {
     "elapsed": 1150,
     "status": "ok",
     "timestamp": 1569305115196,
     "user": {
      "displayName": "Sharoon Saxena",
      "photoUrl": "https://lh3.googleusercontent.com/a-/AAuE7mA06b2KEfgpAIC1tQCip2ka2KqXrCY2GfWW9Fww=s64",
      "userId": "01167841530696023488"
     },
     "user_tz": -330
    },
    "id": "DUvYvZQ5c4Ri",
    "outputId": "2dc61935-800a-4df8-f325-589d13e79475"
   },
   "outputs": [
    {
     "data": {
      "text/plain": [
       "540198.4357443658"
      ]
     },
     "execution_count": 5,
     "metadata": {},
     "output_type": "execute_result"
    }
   ],
   "source": [
    "data['Sale Price'].mean()"
   ]
  },
  {
   "cell_type": "code",
   "execution_count": 6,
   "metadata": {
    "colab": {
     "base_uri": "https://localhost:8080/",
     "height": 51
    },
    "colab_type": "code",
    "executionInfo": {
     "elapsed": 1151,
     "status": "ok",
     "timestamp": 1569305118849,
     "user": {
      "displayName": "Sharoon Saxena",
      "photoUrl": "https://lh3.googleusercontent.com/a-/AAuE7mA06b2KEfgpAIC1tQCip2ka2KqXrCY2GfWW9Fww=s64",
      "userId": "01167841530696023488"
     },
     "user_tz": -330
    },
    "id": "xvmCYNtrdG_q",
    "outputId": "0d8260fe-4be6-47b3-d21e-f36e37450a2a"
   },
   "outputs": [
    {
     "data": {
      "text/plain": [
       "array([542130.61120616, 612577.74250441, 521277.5105671 , 334431.66666667,\n",
       "       327316.21511628])"
      ]
     },
     "execution_count": 6,
     "metadata": {},
     "output_type": "execute_result"
    }
   ],
   "source": [
    "#Initialising a new column\n",
    "data['condition_sale'] = 0\n",
    "\n",
    "# Calculating mean based on the condition of the House\n",
    "for i in data['Condition of the House'].unique():\n",
    "  data['condition_sale'][data['Condition of the House'] == str(i)] = data['Sale Price'][data['Condition of the House'] == str(i)].mean()\n",
    "\n",
    "data['condition_sale'].unique()"
   ]
  },
  {
   "cell_type": "code",
   "execution_count": 7,
   "metadata": {
    "colab": {
     "base_uri": "https://localhost:8080/",
     "height": 34
    },
    "colab_type": "code",
    "executionInfo": {
     "elapsed": 19060,
     "status": "ok",
     "timestamp": 1569305140999,
     "user": {
      "displayName": "Sharoon Saxena",
      "photoUrl": "https://lh3.googleusercontent.com/a-/AAuE7mA06b2KEfgpAIC1tQCip2ka2KqXrCY2GfWW9Fww=s64",
      "userId": "01167841530696023488"
     },
     "user_tz": -330
    },
    "id": "HrFdw-pDlnzZ",
    "outputId": "35e81de0-8417-410e-d318-7c9634b92e8b"
   },
   "outputs": [
    {
     "data": {
      "text/plain": [
       "281"
      ]
     },
     "execution_count": 7,
     "metadata": {},
     "output_type": "execute_result"
    }
   ],
   "source": [
    "import time\n",
    "#Initialising a new column\n",
    "data['zip_condition_sale'] = 0\n",
    "\n",
    "C = 'Condition of the House'\n",
    "Z = \"Zipcode\"\n",
    "\n",
    "tick = time.time()\n",
    "# Calculating mean based on the condition of the House and zipcode\n",
    "for i in data[C].unique():\n",
    "  for j in data[Z].unique() :\n",
    "    data['zip_condition_sale'][(data[C] == str(i)) & (data[Z] == j) ] = data['Sale Price'][(data[C] == str(i)) & (data[Z] == j)].mean()\n",
    "tock = time.time()\n",
    "time1 = tock - tick\n",
    "len(data['zip_condition_sale'].unique())"
   ]
  },
  {
   "cell_type": "code",
   "execution_count": 8,
   "metadata": {
    "colab": {
     "base_uri": "https://localhost:8080/",
     "height": 1000
    },
    "colab_type": "code",
    "executionInfo": {
     "elapsed": 1136,
     "status": "ok",
     "timestamp": 1569305143661,
     "user": {
      "displayName": "Sharoon Saxena",
      "photoUrl": "https://lh3.googleusercontent.com/a-/AAuE7mA06b2KEfgpAIC1tQCip2ka2KqXrCY2GfWW9Fww=s64",
      "userId": "01167841530696023488"
     },
     "user_tz": -330
    },
    "id": "xwRoblM66KFQ",
    "outputId": "59eeac3c-4a24-4d97-d74d-4288a535db8c"
   },
   "outputs": [
    {
     "data": {
      "text/html": [
       "<div>\n",
       "<style scoped>\n",
       "    .dataframe tbody tr th:only-of-type {\n",
       "        vertical-align: middle;\n",
       "    }\n",
       "\n",
       "    .dataframe tbody tr th {\n",
       "        vertical-align: top;\n",
       "    }\n",
       "\n",
       "    .dataframe thead th {\n",
       "        text-align: right;\n",
       "    }\n",
       "</style>\n",
       "<table border=\"1\" class=\"dataframe\">\n",
       "  <thead>\n",
       "    <tr style=\"text-align: right;\">\n",
       "      <th></th>\n",
       "      <th></th>\n",
       "      <th>Sale Price</th>\n",
       "    </tr>\n",
       "    <tr>\n",
       "      <th>Condition of the House</th>\n",
       "      <th>Zipcode</th>\n",
       "      <th></th>\n",
       "    </tr>\n",
       "  </thead>\n",
       "  <tbody>\n",
       "    <tr>\n",
       "      <th rowspan=\"5\" valign=\"top\">Bad</th>\n",
       "      <th>98004.0</th>\n",
       "      <td>1.500000e+06</td>\n",
       "    </tr>\n",
       "    <tr>\n",
       "      <th>98006.0</th>\n",
       "      <td>3.725000e+05</td>\n",
       "    </tr>\n",
       "    <tr>\n",
       "      <th>98011.0</th>\n",
       "      <td>2.700000e+05</td>\n",
       "    </tr>\n",
       "    <tr>\n",
       "      <th>98023.0</th>\n",
       "      <td>1.500000e+05</td>\n",
       "    </tr>\n",
       "    <tr>\n",
       "      <th>98024.0</th>\n",
       "      <td>1.420000e+05</td>\n",
       "    </tr>\n",
       "    <tr>\n",
       "      <th>...</th>\n",
       "      <th>...</th>\n",
       "      <td>...</td>\n",
       "    </tr>\n",
       "    <tr>\n",
       "      <th rowspan=\"5\" valign=\"top\">Okay</th>\n",
       "      <th>98155.0</th>\n",
       "      <td>3.601833e+05</td>\n",
       "    </tr>\n",
       "    <tr>\n",
       "      <th>98166.0</th>\n",
       "      <td>2.165625e+05</td>\n",
       "    </tr>\n",
       "    <tr>\n",
       "      <th>98168.0</th>\n",
       "      <td>1.809389e+05</td>\n",
       "    </tr>\n",
       "    <tr>\n",
       "      <th>98178.0</th>\n",
       "      <td>1.750000e+05</td>\n",
       "    </tr>\n",
       "    <tr>\n",
       "      <th>98198.0</th>\n",
       "      <td>2.705325e+05</td>\n",
       "    </tr>\n",
       "  </tbody>\n",
       "</table>\n",
       "<p>283 rows × 1 columns</p>\n",
       "</div>"
      ],
      "text/plain": [
       "                                  Sale Price\n",
       "Condition of the House Zipcode              \n",
       "Bad                    98004.0  1.500000e+06\n",
       "                       98006.0  3.725000e+05\n",
       "                       98011.0  2.700000e+05\n",
       "                       98023.0  1.500000e+05\n",
       "                       98024.0  1.420000e+05\n",
       "...                                      ...\n",
       "Okay                   98155.0  3.601833e+05\n",
       "                       98166.0  2.165625e+05\n",
       "                       98168.0  1.809389e+05\n",
       "                       98178.0  1.750000e+05\n",
       "                       98198.0  2.705325e+05\n",
       "\n",
       "[283 rows x 1 columns]"
      ]
     },
     "execution_count": 8,
     "metadata": {},
     "output_type": "execute_result"
    }
   ],
   "source": [
    "zip_condition_sale2  = pd.pivot_table(data, index=[\"Condition of the House\",\"Zipcode\"], values=[\"Sale Price\"], aggfunc=np.mean,)\n",
    "zip_condition_sale2"
   ]
  },
  {
   "cell_type": "code",
   "execution_count": 9,
   "metadata": {
    "colab": {
     "base_uri": "https://localhost:8080/",
     "height": 1000
    },
    "colab_type": "code",
    "executionInfo": {
     "elapsed": 1142,
     "status": "ok",
     "timestamp": 1569305148371,
     "user": {
      "displayName": "Sharoon Saxena",
      "photoUrl": "https://lh3.googleusercontent.com/a-/AAuE7mA06b2KEfgpAIC1tQCip2ka2KqXrCY2GfWW9Fww=s64",
      "userId": "01167841530696023488"
     },
     "user_tz": -330
    },
    "id": "RyMdpijOComu",
    "outputId": "d54c925a-63c1-4818-a614-bd81fd783ce0"
   },
   "outputs": [
    {
     "data": {
      "text/html": [
       "<div>\n",
       "<style scoped>\n",
       "    .dataframe tbody tr th:only-of-type {\n",
       "        vertical-align: middle;\n",
       "    }\n",
       "\n",
       "    .dataframe tbody tr th {\n",
       "        vertical-align: top;\n",
       "    }\n",
       "\n",
       "    .dataframe thead tr th {\n",
       "        text-align: left;\n",
       "    }\n",
       "\n",
       "    .dataframe thead tr:last-of-type th {\n",
       "        text-align: right;\n",
       "    }\n",
       "</style>\n",
       "<table border=\"1\" class=\"dataframe\">\n",
       "  <thead>\n",
       "    <tr>\n",
       "      <th></th>\n",
       "      <th colspan=\"5\" halign=\"left\">Sale Price</th>\n",
       "    </tr>\n",
       "    <tr>\n",
       "      <th>Condition of the House</th>\n",
       "      <th>Bad</th>\n",
       "      <th>Excellent</th>\n",
       "      <th>Fair</th>\n",
       "      <th>Good</th>\n",
       "      <th>Okay</th>\n",
       "    </tr>\n",
       "    <tr>\n",
       "      <th>Zipcode</th>\n",
       "      <th></th>\n",
       "      <th></th>\n",
       "      <th></th>\n",
       "      <th></th>\n",
       "      <th></th>\n",
       "    </tr>\n",
       "  </thead>\n",
       "  <tbody>\n",
       "    <tr>\n",
       "      <th>98001.0</th>\n",
       "      <td>NaN</td>\n",
       "      <td>2.425433e+05</td>\n",
       "      <td>2.927207e+05</td>\n",
       "      <td>2.527446e+05</td>\n",
       "      <td>356070.0</td>\n",
       "    </tr>\n",
       "    <tr>\n",
       "      <th>98002.0</th>\n",
       "      <td>NaN</td>\n",
       "      <td>2.216411e+05</td>\n",
       "      <td>2.588868e+05</td>\n",
       "      <td>2.192858e+05</td>\n",
       "      <td>NaN</td>\n",
       "    </tr>\n",
       "    <tr>\n",
       "      <th>98003.0</th>\n",
       "      <td>NaN</td>\n",
       "      <td>3.706800e+05</td>\n",
       "      <td>2.992801e+05</td>\n",
       "      <td>2.809591e+05</td>\n",
       "      <td>235500.0</td>\n",
       "    </tr>\n",
       "    <tr>\n",
       "      <th>98004.0</th>\n",
       "      <td>1500000.0</td>\n",
       "      <td>1.236365e+06</td>\n",
       "      <td>1.527265e+06</td>\n",
       "      <td>1.145915e+06</td>\n",
       "      <td>425000.0</td>\n",
       "    </tr>\n",
       "    <tr>\n",
       "      <th>98005.0</th>\n",
       "      <td>NaN</td>\n",
       "      <td>8.319500e+05</td>\n",
       "      <td>8.668012e+05</td>\n",
       "      <td>7.669397e+05</td>\n",
       "      <td>577750.0</td>\n",
       "    </tr>\n",
       "    <tr>\n",
       "      <th>...</th>\n",
       "      <td>...</td>\n",
       "      <td>...</td>\n",
       "      <td>...</td>\n",
       "      <td>...</td>\n",
       "      <td>...</td>\n",
       "    </tr>\n",
       "    <tr>\n",
       "      <th>98177.0</th>\n",
       "      <td>NaN</td>\n",
       "      <td>8.966313e+05</td>\n",
       "      <td>6.496812e+05</td>\n",
       "      <td>6.665755e+05</td>\n",
       "      <td>NaN</td>\n",
       "    </tr>\n",
       "    <tr>\n",
       "      <th>98178.0</th>\n",
       "      <td>NaN</td>\n",
       "      <td>2.975217e+05</td>\n",
       "      <td>3.094105e+05</td>\n",
       "      <td>3.308419e+05</td>\n",
       "      <td>175000.0</td>\n",
       "    </tr>\n",
       "    <tr>\n",
       "      <th>98188.0</th>\n",
       "      <td>NaN</td>\n",
       "      <td>2.853636e+05</td>\n",
       "      <td>2.900059e+05</td>\n",
       "      <td>2.867413e+05</td>\n",
       "      <td>NaN</td>\n",
       "    </tr>\n",
       "    <tr>\n",
       "      <th>98198.0</th>\n",
       "      <td>NaN</td>\n",
       "      <td>3.215235e+05</td>\n",
       "      <td>2.941619e+05</td>\n",
       "      <td>3.154305e+05</td>\n",
       "      <td>270532.5</td>\n",
       "    </tr>\n",
       "    <tr>\n",
       "      <th>98199.0</th>\n",
       "      <td>NaN</td>\n",
       "      <td>9.338983e+05</td>\n",
       "      <td>7.604974e+05</td>\n",
       "      <td>7.963811e+05</td>\n",
       "      <td>NaN</td>\n",
       "    </tr>\n",
       "  </tbody>\n",
       "</table>\n",
       "<p>70 rows × 5 columns</p>\n",
       "</div>"
      ],
      "text/plain": [
       "                       Sale Price                                            \\\n",
       "Condition of the House        Bad     Excellent          Fair          Good   \n",
       "Zipcode                                                                       \n",
       "98001.0                       NaN  2.425433e+05  2.927207e+05  2.527446e+05   \n",
       "98002.0                       NaN  2.216411e+05  2.588868e+05  2.192858e+05   \n",
       "98003.0                       NaN  3.706800e+05  2.992801e+05  2.809591e+05   \n",
       "98004.0                 1500000.0  1.236365e+06  1.527265e+06  1.145915e+06   \n",
       "98005.0                       NaN  8.319500e+05  8.668012e+05  7.669397e+05   \n",
       "...                           ...           ...           ...           ...   \n",
       "98177.0                       NaN  8.966313e+05  6.496812e+05  6.665755e+05   \n",
       "98178.0                       NaN  2.975217e+05  3.094105e+05  3.308419e+05   \n",
       "98188.0                       NaN  2.853636e+05  2.900059e+05  2.867413e+05   \n",
       "98198.0                       NaN  3.215235e+05  2.941619e+05  3.154305e+05   \n",
       "98199.0                       NaN  9.338983e+05  7.604974e+05  7.963811e+05   \n",
       "\n",
       "                                  \n",
       "Condition of the House      Okay  \n",
       "Zipcode                           \n",
       "98001.0                 356070.0  \n",
       "98002.0                      NaN  \n",
       "98003.0                 235500.0  \n",
       "98004.0                 425000.0  \n",
       "98005.0                 577750.0  \n",
       "...                          ...  \n",
       "98177.0                      NaN  \n",
       "98178.0                 175000.0  \n",
       "98188.0                      NaN  \n",
       "98198.0                 270532.5  \n",
       "98199.0                      NaN  \n",
       "\n",
       "[70 rows x 5 columns]"
      ]
     },
     "execution_count": 9,
     "metadata": {},
     "output_type": "execute_result"
    }
   ],
   "source": [
    "zip_condition_sale3  = pd.pivot_table(data, index=[\"Zipcode\"], columns = ['Condition of the House'], values=[\"Sale Price\"], aggfunc=np.mean)\n",
    "zip_condition_sale3"
   ]
  },
  {
   "cell_type": "code",
   "execution_count": 10,
   "metadata": {
    "colab": {
     "base_uri": "https://localhost:8080/",
     "height": 119
    },
    "colab_type": "code",
    "executionInfo": {
     "elapsed": 1048,
     "status": "ok",
     "timestamp": 1569305150642,
     "user": {
      "displayName": "Sharoon Saxena",
      "photoUrl": "https://lh3.googleusercontent.com/a-/AAuE7mA06b2KEfgpAIC1tQCip2ka2KqXrCY2GfWW9Fww=s64",
      "userId": "01167841530696023488"
     },
     "user_tz": -330
    },
    "id": "oc4NZwvUZRqx",
    "outputId": "73463799-4191-4b0f-cf96-7c35735c0fdc"
   },
   "outputs": [
    {
     "data": {
      "text/plain": [
       "0    34.351128\n",
       "1    50.695167\n",
       "2    27.748874\n",
       "3    44.271887\n",
       "4    40.987803\n",
       "Name: plot_length, dtype: float64"
      ]
     },
     "execution_count": 10,
     "metadata": {},
     "output_type": "execute_result"
    }
   ],
   "source": [
    "data['plot_length'] = data['Flat Area (in Sqft)']**0.5\n",
    "data['plot_length'].head()"
   ]
  },
  {
   "cell_type": "code",
   "execution_count": 11,
   "metadata": {
    "colab": {},
    "colab_type": "code",
    "id": "GOEq8n4EbaoZ"
   },
   "outputs": [],
   "source": [
    "data['new_rank'] = data['Overall Grade']/data['Overall Grade'].sum()"
   ]
  },
  {
   "cell_type": "code",
   "execution_count": 12,
   "metadata": {
    "colab": {
     "base_uri": "https://localhost:8080/",
     "height": 119
    },
    "colab_type": "code",
    "executionInfo": {
     "elapsed": 1365,
     "status": "ok",
     "timestamp": 1569305157793,
     "user": {
      "displayName": "Sharoon Saxena",
      "photoUrl": "https://lh3.googleusercontent.com/a-/AAuE7mA06b2KEfgpAIC1tQCip2ka2KqXrCY2GfWW9Fww=s64",
      "userId": "01167841530696023488"
     },
     "user_tz": -330
    },
    "id": "f8Q1s90XdpTq",
    "outputId": "58dc6fb8-f5ff-4037-ba4e-80840a65948e"
   },
   "outputs": [
    {
     "data": {
      "text/plain": [
       "0     6830.0\n",
       "1     9812.0\n",
       "2    10770.0\n",
       "3     6960.0\n",
       "4     9760.0\n",
       "Name: total_area, dtype: float64"
      ]
     },
     "execution_count": 12,
     "metadata": {},
     "output_type": "execute_result"
    }
   ],
   "source": [
    "data['total_area'] = data['Flat Area (in Sqft)'] + data['Lot Area (in Sqft)']\n",
    "data['total_area'].head()"
   ]
  },
  {
   "cell_type": "code",
   "execution_count": 13,
   "metadata": {
    "colab": {
     "base_uri": "https://localhost:8080/",
     "height": 34
    },
    "colab_type": "code",
    "executionInfo": {
     "elapsed": 1127,
     "status": "ok",
     "timestamp": 1569305161271,
     "user": {
      "displayName": "Sharoon Saxena",
      "photoUrl": "https://lh3.googleusercontent.com/a-/AAuE7mA06b2KEfgpAIC1tQCip2ka2KqXrCY2GfWW9Fww=s64",
      "userId": "01167841530696023488"
     },
     "user_tz": -330
    },
    "id": "B3kb9n28gfmi",
    "outputId": "3fa9d613-b6ac-400b-e2d2-52bfc832de32"
   },
   "outputs": [
    {
     "data": {
      "text/plain": [
       "array(['1', '3', '0'], dtype=object)"
      ]
     },
     "execution_count": 13,
     "metadata": {},
     "output_type": "execute_result"
    }
   ],
   "source": [
    "data['Condition of the House'][data['Condition of the House'] == 'Fair'] = '1'\n",
    "data['Condition of the House'][data['Condition of the House'] == 'Okay'] = '0'\n",
    "data['Condition of the House'][data['Condition of the House'] == 'Bad'] = '0'\n",
    "data['Condition of the House'][data['Condition of the House'] == 'Good'] = '1'\n",
    "data['Condition of the House'][data['Condition of the House'] == 'Excellent'] = '3'\n",
    "data['Condition of the House'].unique()"
   ]
  },
  {
   "cell_type": "code",
   "execution_count": 14,
   "metadata": {
    "colab": {
     "base_uri": "https://localhost:8080/",
     "height": 34
    },
    "colab_type": "code",
    "executionInfo": {
     "elapsed": 748,
     "status": "ok",
     "timestamp": 1569305162918,
     "user": {
      "displayName": "Sharoon Saxena",
      "photoUrl": "https://lh3.googleusercontent.com/a-/AAuE7mA06b2KEfgpAIC1tQCip2ka2KqXrCY2GfWW9Fww=s64",
      "userId": "01167841530696023488"
     },
     "user_tz": -330
    },
    "id": "gVxnd-UZkpBB",
    "outputId": "9317607a-9ade-4e66-fb51-5084c8484b5b"
   },
   "outputs": [
    {
     "data": {
      "text/plain": [
       "array([nan], dtype=object)"
      ]
     },
     "execution_count": 14,
     "metadata": {},
     "output_type": "execute_result"
    }
   ],
   "source": [
    "data['Condition of the House'] = data['Condition of the House'].map({'Good':'1',\n",
    "                                                                     'Excellent':'3',\n",
    "                                                                     'Bad':'0',\n",
    "                                                                     'Fair': '1',\n",
    "                                                                     'Okay': '0'})\n",
    "data['Condition of the House'].unique()"
   ]
  },
  {
   "cell_type": "code",
   "execution_count": 15,
   "metadata": {
    "colab": {
     "base_uri": "https://localhost:8080/",
     "height": 119
    },
    "colab_type": "code",
    "executionInfo": {
     "elapsed": 1018,
     "status": "ok",
     "timestamp": 1569305165369,
     "user": {
      "displayName": "Sharoon Saxena",
      "photoUrl": "https://lh3.googleusercontent.com/a-/AAuE7mA06b2KEfgpAIC1tQCip2ka2KqXrCY2GfWW9Fww=s64",
      "userId": "01167841530696023488"
     },
     "user_tz": -330
    },
    "id": "n_Mi0VyXrpfq",
    "outputId": "f64798d1-f458-4006-b7b4-2edc957c43df"
   },
   "outputs": [
    {
     "data": {
      "text/plain": [
       "0     14 October 2017\n",
       "1    14 December 2017\n",
       "2    15 February 2016\n",
       "3    14 December 2017\n",
       "4    15 February 2016\n",
       "Name: Date House was Sold, dtype: object"
      ]
     },
     "execution_count": 15,
     "metadata": {},
     "output_type": "execute_result"
    }
   ],
   "source": [
    "data['Date House was Sold'].head()"
   ]
  },
  {
   "cell_type": "code",
   "execution_count": 16,
   "metadata": {
    "colab": {
     "base_uri": "https://localhost:8080/",
     "height": 119
    },
    "colab_type": "code",
    "executionInfo": {
     "elapsed": 1141,
     "status": "ok",
     "timestamp": 1569305167833,
     "user": {
      "displayName": "Sharoon Saxena",
      "photoUrl": "https://lh3.googleusercontent.com/a-/AAuE7mA06b2KEfgpAIC1tQCip2ka2KqXrCY2GfWW9Fww=s64",
      "userId": "01167841530696023488"
     },
     "user_tz": -330
    },
    "id": "906tu2R1usMp",
    "outputId": "77460cf9-ac1a-4fc4-c79d-79b0c9e11b53"
   },
   "outputs": [
    {
     "data": {
      "text/plain": [
       "0    2017\n",
       "1    2017\n",
       "2    2016\n",
       "3    2017\n",
       "4    2016\n",
       "Name: year_sold, dtype: object"
      ]
     },
     "execution_count": 16,
     "metadata": {},
     "output_type": "execute_result"
    }
   ],
   "source": [
    "year = []\n",
    "for i in range(len(data['Date House was Sold'])):\n",
    "  k = data['Date House was Sold'][i].split()[-1]\n",
    "  year.append(k)\n",
    "\n",
    "data['year_sold'] = year\n",
    "data['year_sold'].head()"
   ]
  },
  {
   "cell_type": "code",
   "execution_count": 17,
   "metadata": {
    "colab": {
     "base_uri": "https://localhost:8080/",
     "height": 119
    },
    "colab_type": "code",
    "executionInfo": {
     "elapsed": 1259,
     "status": "ok",
     "timestamp": 1569305170470,
     "user": {
      "displayName": "Sharoon Saxena",
      "photoUrl": "https://lh3.googleusercontent.com/a-/AAuE7mA06b2KEfgpAIC1tQCip2ka2KqXrCY2GfWW9Fww=s64",
      "userId": "01167841530696023488"
     },
     "user_tz": -330
    },
    "id": "AWDqbOnmvOrU",
    "outputId": "ea2e42e1-5b3c-4fa7-b70c-9f967b419a39"
   },
   "outputs": [
    {
     "data": {
      "text/plain": [
       "0    2017\n",
       "1    2017\n",
       "2    2016\n",
       "3    2017\n",
       "4    2016\n",
       "Name: year_sold, dtype: object"
      ]
     },
     "execution_count": 17,
     "metadata": {},
     "output_type": "execute_result"
    }
   ],
   "source": [
    "def year(value):\n",
    "  return value.split()[-1]\n",
    "\n",
    "data['year_sold'] = data['Date House was Sold'].map(year)\n",
    "data['year_sold'].head()"
   ]
  },
  {
   "cell_type": "code",
   "execution_count": 18,
   "metadata": {
    "colab": {
     "base_uri": "https://localhost:8080/",
     "height": 34
    },
    "colab_type": "code",
    "executionInfo": {
     "elapsed": 1039,
     "status": "ok",
     "timestamp": 1569305172546,
     "user": {
      "displayName": "Sharoon Saxena",
      "photoUrl": "https://lh3.googleusercontent.com/a-/AAuE7mA06b2KEfgpAIC1tQCip2ka2KqXrCY2GfWW9Fww=s64",
      "userId": "01167841530696023488"
     },
     "user_tz": -330
    },
    "id": "1Lx6-Ppaw5g4",
    "outputId": "2199d52b-dc4b-41aa-c71e-5b4c61b05e73"
   },
   "outputs": [
    {
     "data": {
      "text/plain": [
       "13.015259866550972"
      ]
     },
     "execution_count": 18,
     "metadata": {},
     "output_type": "execute_result"
    }
   ],
   "source": [
    "#### Ignore THIS CELL ####\n",
    "\n",
    "tick = time.time()\n",
    "year = []\n",
    "for i in range(len(data['Date House was Sold'])):\n",
    "  k = data['Date House was Sold'][i].split()[-1]\n",
    "  year.append(k)\n",
    "\n",
    "data['year_sold'] = year\n",
    "tock = time.time()\n",
    "time1 = tock-tick\n",
    "\n",
    "tick = time.time()\n",
    "def year(value):\n",
    "  return value.split()[-1]\n",
    "\n",
    "data['year_sold'] = data['Date House was Sold'].map(year)\n",
    "tock = time.time()\n",
    "time2 = tock-tick\n",
    "time1/time2"
   ]
  },
  {
   "cell_type": "code",
   "execution_count": 19,
   "metadata": {
    "colab": {
     "base_uri": "https://localhost:8080/",
     "height": 496
    },
    "colab_type": "code",
    "executionInfo": {
     "elapsed": 1099,
     "status": "ok",
     "timestamp": 1569305210851,
     "user": {
      "displayName": "Sharoon Saxena",
      "photoUrl": "https://lh3.googleusercontent.com/a-/AAuE7mA06b2KEfgpAIC1tQCip2ka2KqXrCY2GfWW9Fww=s64",
      "userId": "01167841530696023488"
     },
     "user_tz": -330
    },
    "id": "5kueWiVYxDxv",
    "outputId": "d8170712-efd5-41b9-f904-98dc17310bc6"
   },
   "outputs": [
    {
     "data": {
      "text/html": [
       "<div>\n",
       "<style scoped>\n",
       "    .dataframe tbody tr th:only-of-type {\n",
       "        vertical-align: middle;\n",
       "    }\n",
       "\n",
       "    .dataframe tbody tr th {\n",
       "        vertical-align: top;\n",
       "    }\n",
       "\n",
       "    .dataframe thead th {\n",
       "        text-align: right;\n",
       "    }\n",
       "</style>\n",
       "<table border=\"1\" class=\"dataframe\">\n",
       "  <thead>\n",
       "    <tr style=\"text-align: right;\">\n",
       "      <th></th>\n",
       "      <th>ID</th>\n",
       "      <th>Date House was Sold</th>\n",
       "      <th>Sale Price</th>\n",
       "      <th>No of Bedrooms</th>\n",
       "      <th>No of Bathrooms</th>\n",
       "      <th>Flat Area (in Sqft)</th>\n",
       "      <th>Lot Area (in Sqft)</th>\n",
       "      <th>No of Floors</th>\n",
       "      <th>Waterfront View</th>\n",
       "      <th>No of Times Visited</th>\n",
       "      <th>...</th>\n",
       "      <th>Latitude</th>\n",
       "      <th>Longitude</th>\n",
       "      <th>Living Area after Renovation (in Sqft)</th>\n",
       "      <th>Lot Area after Renovation (in Sqft)</th>\n",
       "      <th>condition_sale</th>\n",
       "      <th>zip_condition_sale</th>\n",
       "      <th>plot_length</th>\n",
       "      <th>new_rank</th>\n",
       "      <th>total_area</th>\n",
       "      <th>year_sold</th>\n",
       "    </tr>\n",
       "  </thead>\n",
       "  <tbody>\n",
       "    <tr>\n",
       "      <th>0</th>\n",
       "      <td>7129300520</td>\n",
       "      <td>14 October 2017</td>\n",
       "      <td>221900.0</td>\n",
       "      <td>3</td>\n",
       "      <td>1.00</td>\n",
       "      <td>1180.0</td>\n",
       "      <td>5650.0</td>\n",
       "      <td>1.0</td>\n",
       "      <td>No</td>\n",
       "      <td>None</td>\n",
       "      <td>...</td>\n",
       "      <td>47.5112</td>\n",
       "      <td>-122.257</td>\n",
       "      <td>1340.0</td>\n",
       "      <td>5650</td>\n",
       "      <td>542130.611206</td>\n",
       "      <td>309410.492386</td>\n",
       "      <td>34.351128</td>\n",
       "      <td>0.000042</td>\n",
       "      <td>6830.0</td>\n",
       "      <td>2017</td>\n",
       "    </tr>\n",
       "    <tr>\n",
       "      <th>1</th>\n",
       "      <td>6414100192</td>\n",
       "      <td>14 December 2017</td>\n",
       "      <td>538000.0</td>\n",
       "      <td>3</td>\n",
       "      <td>2.25</td>\n",
       "      <td>2570.0</td>\n",
       "      <td>7242.0</td>\n",
       "      <td>2.0</td>\n",
       "      <td>No</td>\n",
       "      <td>None</td>\n",
       "      <td>...</td>\n",
       "      <td>47.7210</td>\n",
       "      <td>-122.319</td>\n",
       "      <td>1690.0</td>\n",
       "      <td>7639</td>\n",
       "      <td>542130.611206</td>\n",
       "      <td>457826.833898</td>\n",
       "      <td>50.695167</td>\n",
       "      <td>0.000042</td>\n",
       "      <td>9812.0</td>\n",
       "      <td>2017</td>\n",
       "    </tr>\n",
       "    <tr>\n",
       "      <th>2</th>\n",
       "      <td>5631500400</td>\n",
       "      <td>15 February 2016</td>\n",
       "      <td>180000.0</td>\n",
       "      <td>2</td>\n",
       "      <td>1.00</td>\n",
       "      <td>770.0</td>\n",
       "      <td>10000.0</td>\n",
       "      <td>1.0</td>\n",
       "      <td>No</td>\n",
       "      <td>None</td>\n",
       "      <td>...</td>\n",
       "      <td>47.7379</td>\n",
       "      <td>-122.233</td>\n",
       "      <td>2720.0</td>\n",
       "      <td>8062</td>\n",
       "      <td>542130.611206</td>\n",
       "      <td>463785.870192</td>\n",
       "      <td>27.748874</td>\n",
       "      <td>0.000036</td>\n",
       "      <td>10770.0</td>\n",
       "      <td>2016</td>\n",
       "    </tr>\n",
       "    <tr>\n",
       "      <th>3</th>\n",
       "      <td>2487200875</td>\n",
       "      <td>14 December 2017</td>\n",
       "      <td>604000.0</td>\n",
       "      <td>4</td>\n",
       "      <td>3.00</td>\n",
       "      <td>1960.0</td>\n",
       "      <td>5000.0</td>\n",
       "      <td>1.0</td>\n",
       "      <td>No</td>\n",
       "      <td>None</td>\n",
       "      <td>...</td>\n",
       "      <td>47.5208</td>\n",
       "      <td>-122.393</td>\n",
       "      <td>1360.0</td>\n",
       "      <td>5000</td>\n",
       "      <td>612577.742504</td>\n",
       "      <td>713929.545455</td>\n",
       "      <td>44.271887</td>\n",
       "      <td>0.000042</td>\n",
       "      <td>6960.0</td>\n",
       "      <td>2017</td>\n",
       "    </tr>\n",
       "    <tr>\n",
       "      <th>4</th>\n",
       "      <td>1954400510</td>\n",
       "      <td>15 February 2016</td>\n",
       "      <td>510000.0</td>\n",
       "      <td>3</td>\n",
       "      <td>2.00</td>\n",
       "      <td>1680.0</td>\n",
       "      <td>8080.0</td>\n",
       "      <td>1.0</td>\n",
       "      <td>No</td>\n",
       "      <td>None</td>\n",
       "      <td>...</td>\n",
       "      <td>47.6168</td>\n",
       "      <td>-122.045</td>\n",
       "      <td>1800.0</td>\n",
       "      <td>7503</td>\n",
       "      <td>542130.611206</td>\n",
       "      <td>701063.688312</td>\n",
       "      <td>40.987803</td>\n",
       "      <td>0.000049</td>\n",
       "      <td>9760.0</td>\n",
       "      <td>2016</td>\n",
       "    </tr>\n",
       "  </tbody>\n",
       "</table>\n",
       "<p>5 rows × 27 columns</p>\n",
       "</div>"
      ],
      "text/plain": [
       "           ID Date House was Sold  Sale Price  No of Bedrooms  \\\n",
       "0  7129300520     14 October 2017    221900.0               3   \n",
       "1  6414100192    14 December 2017    538000.0               3   \n",
       "2  5631500400    15 February 2016    180000.0               2   \n",
       "3  2487200875    14 December 2017    604000.0               4   \n",
       "4  1954400510    15 February 2016    510000.0               3   \n",
       "\n",
       "   No of Bathrooms  Flat Area (in Sqft)  Lot Area (in Sqft)  No of Floors  \\\n",
       "0             1.00               1180.0              5650.0           1.0   \n",
       "1             2.25               2570.0              7242.0           2.0   \n",
       "2             1.00                770.0             10000.0           1.0   \n",
       "3             3.00               1960.0              5000.0           1.0   \n",
       "4             2.00               1680.0              8080.0           1.0   \n",
       "\n",
       "  Waterfront View No of Times Visited  ... Latitude  Longitude  \\\n",
       "0              No                None  ...  47.5112   -122.257   \n",
       "1              No                None  ...  47.7210   -122.319   \n",
       "2              No                None  ...  47.7379   -122.233   \n",
       "3              No                None  ...  47.5208   -122.393   \n",
       "4              No                None  ...  47.6168   -122.045   \n",
       "\n",
       "   Living Area after Renovation (in Sqft)  \\\n",
       "0                                  1340.0   \n",
       "1                                  1690.0   \n",
       "2                                  2720.0   \n",
       "3                                  1360.0   \n",
       "4                                  1800.0   \n",
       "\n",
       "   Lot Area after Renovation (in Sqft)  condition_sale  zip_condition_sale  \\\n",
       "0                                 5650   542130.611206       309410.492386   \n",
       "1                                 7639   542130.611206       457826.833898   \n",
       "2                                 8062   542130.611206       463785.870192   \n",
       "3                                 5000   612577.742504       713929.545455   \n",
       "4                                 7503   542130.611206       701063.688312   \n",
       "\n",
       "   plot_length  new_rank  total_area  year_sold  \n",
       "0    34.351128  0.000042      6830.0       2017  \n",
       "1    50.695167  0.000042      9812.0       2017  \n",
       "2    27.748874  0.000036     10770.0       2016  \n",
       "3    44.271887  0.000042      6960.0       2017  \n",
       "4    40.987803  0.000049      9760.0       2016  \n",
       "\n",
       "[5 rows x 27 columns]"
      ]
     },
     "execution_count": 19,
     "metadata": {},
     "output_type": "execute_result"
    }
   ],
   "source": [
    "data.head()"
   ]
  },
  {
   "cell_type": "code",
   "execution_count": 20,
   "metadata": {
    "colab": {
     "base_uri": "https://localhost:8080/",
     "height": 119
    },
    "colab_type": "code",
    "executionInfo": {
     "elapsed": 1508,
     "status": "ok",
     "timestamp": 1569305214609,
     "user": {
      "displayName": "Sharoon Saxena",
      "photoUrl": "https://lh3.googleusercontent.com/a-/AAuE7mA06b2KEfgpAIC1tQCip2ka2KqXrCY2GfWW9Fww=s64",
      "userId": "01167841530696023488"
     },
     "user_tz": -330
    },
    "id": "u1ouzD_kAb1T",
    "outputId": "1e3fbb13-7130-4cb5-e768-a032d9ee0562"
   },
   "outputs": [
    {
     "data": {
      "text/plain": [
       "0     4.0\n",
       "1    10.5\n",
       "2     3.0\n",
       "3     7.0\n",
       "4     5.0\n",
       "Name: total_rooms, dtype: float64"
      ]
     },
     "execution_count": 20,
     "metadata": {},
     "output_type": "execute_result"
    }
   ],
   "source": [
    "data['total_rooms'] = (data['No of Bedrooms'] + data['No of Bathrooms']) * data['No of Floors']\n",
    "data['total_rooms'].head()"
   ]
  },
  {
   "cell_type": "code",
   "execution_count": 21,
   "metadata": {
    "colab": {
     "base_uri": "https://localhost:8080/",
     "height": 119
    },
    "colab_type": "code",
    "executionInfo": {
     "elapsed": 1813,
     "status": "ok",
     "timestamp": 1569305218617,
     "user": {
      "displayName": "Sharoon Saxena",
      "photoUrl": "https://lh3.googleusercontent.com/a-/AAuE7mA06b2KEfgpAIC1tQCip2ka2KqXrCY2GfWW9Fww=s64",
      "userId": "01167841530696023488"
     },
     "user_tz": -330
    },
    "id": "CphawXCcBDU3",
    "outputId": "4d885d72-7885-432e-be08-80ac89a3a109"
   },
   "outputs": [
    {
     "data": {
      "text/plain": [
       "0     4.0\n",
       "1    10.5\n",
       "2     3.0\n",
       "3     7.0\n",
       "4     5.0\n",
       "Name: total_rooms, dtype: float64"
      ]
     },
     "execution_count": 21,
     "metadata": {},
     "output_type": "execute_result"
    }
   ],
   "source": [
    "def Room(row):\n",
    "  return (row[0] + row[1]) * row[2]\n",
    "\n",
    "data['total_rooms'] = data[['No of Bedrooms','No of Bathrooms','No of Floors']].apply(Room , axis = 1)\n",
    "data['total_rooms'].head()"
   ]
  },
  {
   "cell_type": "code",
   "execution_count": 22,
   "metadata": {
    "colab": {
     "base_uri": "https://localhost:8080/",
     "height": 1000
    },
    "colab_type": "code",
    "executionInfo": {
     "elapsed": 1395,
     "status": "ok",
     "timestamp": 1569305222308,
     "user": {
      "displayName": "Sharoon Saxena",
      "photoUrl": "https://lh3.googleusercontent.com/a-/AAuE7mA06b2KEfgpAIC1tQCip2ka2KqXrCY2GfWW9Fww=s64",
      "userId": "01167841530696023488"
     },
     "user_tz": -330
    },
    "id": "Lgluid2_Ci4P",
    "outputId": "031c4f17-9326-48f9-fe34-07c131d8d1ff"
   },
   "outputs": [
    {
     "data": {
      "text/html": [
       "<div>\n",
       "<style scoped>\n",
       "    .dataframe tbody tr th:only-of-type {\n",
       "        vertical-align: middle;\n",
       "    }\n",
       "\n",
       "    .dataframe tbody tr th {\n",
       "        vertical-align: top;\n",
       "    }\n",
       "\n",
       "    .dataframe thead th {\n",
       "        text-align: right;\n",
       "    }\n",
       "</style>\n",
       "<table border=\"1\" class=\"dataframe\">\n",
       "  <thead>\n",
       "    <tr style=\"text-align: right;\">\n",
       "      <th></th>\n",
       "      <th>No of Bedrooms</th>\n",
       "      <th>No of Bathrooms</th>\n",
       "      <th>No of Floors</th>\n",
       "    </tr>\n",
       "  </thead>\n",
       "  <tbody>\n",
       "    <tr>\n",
       "      <th>0</th>\n",
       "      <td>3</td>\n",
       "      <td>1.00</td>\n",
       "      <td>1.0</td>\n",
       "    </tr>\n",
       "    <tr>\n",
       "      <th>1</th>\n",
       "      <td>3</td>\n",
       "      <td>2.25</td>\n",
       "      <td>2.0</td>\n",
       "    </tr>\n",
       "    <tr>\n",
       "      <th>2</th>\n",
       "      <td>2</td>\n",
       "      <td>1.00</td>\n",
       "      <td>1.0</td>\n",
       "    </tr>\n",
       "    <tr>\n",
       "      <th>3</th>\n",
       "      <td>4</td>\n",
       "      <td>3.00</td>\n",
       "      <td>1.0</td>\n",
       "    </tr>\n",
       "    <tr>\n",
       "      <th>4</th>\n",
       "      <td>3</td>\n",
       "      <td>2.00</td>\n",
       "      <td>1.0</td>\n",
       "    </tr>\n",
       "    <tr>\n",
       "      <th>...</th>\n",
       "      <td>...</td>\n",
       "      <td>...</td>\n",
       "      <td>...</td>\n",
       "    </tr>\n",
       "    <tr>\n",
       "      <th>21608</th>\n",
       "      <td>3</td>\n",
       "      <td>2.50</td>\n",
       "      <td>3.0</td>\n",
       "    </tr>\n",
       "    <tr>\n",
       "      <th>21609</th>\n",
       "      <td>4</td>\n",
       "      <td>2.50</td>\n",
       "      <td>2.0</td>\n",
       "    </tr>\n",
       "    <tr>\n",
       "      <th>21610</th>\n",
       "      <td>2</td>\n",
       "      <td>0.75</td>\n",
       "      <td>2.0</td>\n",
       "    </tr>\n",
       "    <tr>\n",
       "      <th>21611</th>\n",
       "      <td>3</td>\n",
       "      <td>2.50</td>\n",
       "      <td>2.0</td>\n",
       "    </tr>\n",
       "    <tr>\n",
       "      <th>21612</th>\n",
       "      <td>2</td>\n",
       "      <td>0.75</td>\n",
       "      <td>2.0</td>\n",
       "    </tr>\n",
       "  </tbody>\n",
       "</table>\n",
       "<p>21613 rows × 3 columns</p>\n",
       "</div>"
      ],
      "text/plain": [
       "       No of Bedrooms  No of Bathrooms  No of Floors\n",
       "0                   3             1.00           1.0\n",
       "1                   3             2.25           2.0\n",
       "2                   2             1.00           1.0\n",
       "3                   4             3.00           1.0\n",
       "4                   3             2.00           1.0\n",
       "...               ...              ...           ...\n",
       "21608               3             2.50           3.0\n",
       "21609               4             2.50           2.0\n",
       "21610               2             0.75           2.0\n",
       "21611               3             2.50           2.0\n",
       "21612               2             0.75           2.0\n",
       "\n",
       "[21613 rows x 3 columns]"
      ]
     },
     "execution_count": 22,
     "metadata": {},
     "output_type": "execute_result"
    }
   ],
   "source": [
    "data[['No of Bedrooms','No of Bathrooms','No of Floors']]"
   ]
  },
  {
   "cell_type": "code",
   "execution_count": 23,
   "metadata": {
    "colab": {},
    "colab_type": "code",
    "id": "li5njne2DavR"
   },
   "outputs": [],
   "source": [
    "#### Ignore THIS CELL ####\n",
    "tick = time.time()\n",
    "data['total_rooms'] = (data['No of Bedrooms'] + data['No of Bathrooms']) * data['No of Floors']\n",
    "tock = time.time()\n",
    "time1 = tock-tick"
   ]
  },
  {
   "cell_type": "code",
   "execution_count": 24,
   "metadata": {
    "colab": {},
    "colab_type": "code",
    "id": "gtYN9uTzF5xd"
   },
   "outputs": [],
   "source": [
    "#### IGNORE THIS CELL ####\n",
    "tick = time.time()\n",
    "def Room(row):\n",
    "  return (row[0] + row[1]) * row[2]\n",
    "\n",
    "data['total_rooms'] = data[['No of Bedrooms','No of Bathrooms','No of Floors']].apply(Room , axis = 1)\n",
    "tock = time.time()\n",
    "time2 = tock-tick"
   ]
  },
  {
   "cell_type": "code",
   "execution_count": 25,
   "metadata": {
    "colab": {
     "base_uri": "https://localhost:8080/",
     "height": 34
    },
    "colab_type": "code",
    "executionInfo": {
     "elapsed": 914,
     "status": "ok",
     "timestamp": 1569305261909,
     "user": {
      "displayName": "Sharoon Saxena",
      "photoUrl": "https://lh3.googleusercontent.com/a-/AAuE7mA06b2KEfgpAIC1tQCip2ka2KqXrCY2GfWW9Fww=s64",
      "userId": "01167841530696023488"
     },
     "user_tz": -330
    },
    "id": "mpEECKJrGGvO",
    "outputId": "de54b6fe-0d28-47d9-c696-3c69d10f7115"
   },
   "outputs": [
    {
     "data": {
      "text/plain": [
       "0.009648744282385432"
      ]
     },
     "execution_count": 25,
     "metadata": {},
     "output_type": "execute_result"
    }
   ],
   "source": [
    "time1/time2"
   ]
  },
  {
   "cell_type": "code",
   "execution_count": 26,
   "metadata": {
    "colab": {
     "base_uri": "https://localhost:8080/",
     "height": 385
    },
    "colab_type": "code",
    "executionInfo": {
     "elapsed": 855,
     "status": "ok",
     "timestamp": 1569305263267,
     "user": {
      "displayName": "Sharoon Saxena",
      "photoUrl": "https://lh3.googleusercontent.com/a-/AAuE7mA06b2KEfgpAIC1tQCip2ka2KqXrCY2GfWW9Fww=s64",
      "userId": "01167841530696023488"
     },
     "user_tz": -330
    },
    "id": "6dHnK20WGJ9O",
    "outputId": "33f374ed-74ec-4bf9-fd6d-1549e99d763e"
   },
   "outputs": [
    {
     "data": {
      "text/html": [
       "<div>\n",
       "<style scoped>\n",
       "    .dataframe tbody tr th:only-of-type {\n",
       "        vertical-align: middle;\n",
       "    }\n",
       "\n",
       "    .dataframe tbody tr th {\n",
       "        vertical-align: top;\n",
       "    }\n",
       "\n",
       "    .dataframe thead th {\n",
       "        text-align: right;\n",
       "    }\n",
       "</style>\n",
       "<table border=\"1\" class=\"dataframe\">\n",
       "  <thead>\n",
       "    <tr style=\"text-align: right;\">\n",
       "      <th></th>\n",
       "      <th>ID</th>\n",
       "      <th>Sale Price</th>\n",
       "      <th>No of Bedrooms</th>\n",
       "      <th>No of Bathrooms</th>\n",
       "      <th>Flat Area (in Sqft)</th>\n",
       "      <th>Lot Area (in Sqft)</th>\n",
       "      <th>No of Floors</th>\n",
       "      <th>Overall Grade</th>\n",
       "      <th>Area of the House from Basement (in Sqft)</th>\n",
       "      <th>Basement Area (in Sqft)</th>\n",
       "      <th>...</th>\n",
       "      <th>Latitude</th>\n",
       "      <th>Longitude</th>\n",
       "      <th>Living Area after Renovation (in Sqft)</th>\n",
       "      <th>Lot Area after Renovation (in Sqft)</th>\n",
       "      <th>condition_sale</th>\n",
       "      <th>zip_condition_sale</th>\n",
       "      <th>plot_length</th>\n",
       "      <th>new_rank</th>\n",
       "      <th>total_area</th>\n",
       "      <th>total_rooms</th>\n",
       "    </tr>\n",
       "  </thead>\n",
       "  <tbody>\n",
       "    <tr>\n",
       "      <th>count</th>\n",
       "      <td>2.161300e+04</td>\n",
       "      <td>2.160900e+04</td>\n",
       "      <td>21613.000000</td>\n",
       "      <td>21609.000000</td>\n",
       "      <td>21604.000000</td>\n",
       "      <td>2.160400e+04</td>\n",
       "      <td>21613.000000</td>\n",
       "      <td>21613.000000</td>\n",
       "      <td>21610.000000</td>\n",
       "      <td>21613.000000</td>\n",
       "      <td>...</td>\n",
       "      <td>21612.000000</td>\n",
       "      <td>21612.000000</td>\n",
       "      <td>21612.000000</td>\n",
       "      <td>21613.000000</td>\n",
       "      <td>21613.000000</td>\n",
       "      <td>2.161300e+04</td>\n",
       "      <td>21604.000000</td>\n",
       "      <td>21613.000000</td>\n",
       "      <td>2.159500e+04</td>\n",
       "      <td>21609.000000</td>\n",
       "    </tr>\n",
       "    <tr>\n",
       "      <th>mean</th>\n",
       "      <td>4.580302e+09</td>\n",
       "      <td>5.401984e+05</td>\n",
       "      <td>3.370842</td>\n",
       "      <td>2.114732</td>\n",
       "      <td>2079.931772</td>\n",
       "      <td>1.510776e+04</td>\n",
       "      <td>1.494309</td>\n",
       "      <td>7.623467</td>\n",
       "      <td>1788.344193</td>\n",
       "      <td>291.509045</td>\n",
       "      <td>...</td>\n",
       "      <td>47.560048</td>\n",
       "      <td>-122.213892</td>\n",
       "      <td>1986.538914</td>\n",
       "      <td>12768.455652</td>\n",
       "      <td>540197.828499</td>\n",
       "      <td>5.401514e+05</td>\n",
       "      <td>44.597182</td>\n",
       "      <td>0.000046</td>\n",
       "      <td>1.719020e+04</td>\n",
       "      <td>8.493203</td>\n",
       "    </tr>\n",
       "    <tr>\n",
       "      <th>std</th>\n",
       "      <td>2.876566e+09</td>\n",
       "      <td>3.673890e+05</td>\n",
       "      <td>0.930062</td>\n",
       "      <td>0.770138</td>\n",
       "      <td>918.487597</td>\n",
       "      <td>4.142827e+04</td>\n",
       "      <td>0.539989</td>\n",
       "      <td>1.105439</td>\n",
       "      <td>827.982604</td>\n",
       "      <td>442.575043</td>\n",
       "      <td>...</td>\n",
       "      <td>0.138565</td>\n",
       "      <td>0.140830</td>\n",
       "      <td>685.404255</td>\n",
       "      <td>27304.179631</td>\n",
       "      <td>30467.430837</td>\n",
       "      <td>2.438357e+05</td>\n",
       "      <td>9.540825</td>\n",
       "      <td>0.000007</td>\n",
       "      <td>4.160455e+04</td>\n",
       "      <td>4.380045</td>\n",
       "    </tr>\n",
       "    <tr>\n",
       "      <th>min</th>\n",
       "      <td>1.000102e+06</td>\n",
       "      <td>7.500000e+04</td>\n",
       "      <td>0.000000</td>\n",
       "      <td>0.000000</td>\n",
       "      <td>290.000000</td>\n",
       "      <td>5.200000e+02</td>\n",
       "      <td>1.000000</td>\n",
       "      <td>1.000000</td>\n",
       "      <td>290.000000</td>\n",
       "      <td>0.000000</td>\n",
       "      <td>...</td>\n",
       "      <td>47.155900</td>\n",
       "      <td>-122.519000</td>\n",
       "      <td>399.000000</td>\n",
       "      <td>651.000000</td>\n",
       "      <td>327316.215116</td>\n",
       "      <td>0.000000e+00</td>\n",
       "      <td>17.029386</td>\n",
       "      <td>0.000006</td>\n",
       "      <td>1.423000e+03</td>\n",
       "      <td>0.000000</td>\n",
       "    </tr>\n",
       "    <tr>\n",
       "      <th>25%</th>\n",
       "      <td>2.123049e+09</td>\n",
       "      <td>3.219500e+05</td>\n",
       "      <td>3.000000</td>\n",
       "      <td>1.750000</td>\n",
       "      <td>1429.250000</td>\n",
       "      <td>5.040000e+03</td>\n",
       "      <td>1.000000</td>\n",
       "      <td>7.000000</td>\n",
       "      <td>1190.000000</td>\n",
       "      <td>0.000000</td>\n",
       "      <td>...</td>\n",
       "      <td>47.470975</td>\n",
       "      <td>-122.328000</td>\n",
       "      <td>1490.000000</td>\n",
       "      <td>5100.000000</td>\n",
       "      <td>521277.510567</td>\n",
       "      <td>3.473329e+05</td>\n",
       "      <td>37.805419</td>\n",
       "      <td>0.000042</td>\n",
       "      <td>7.037500e+03</td>\n",
       "      <td>4.750000</td>\n",
       "    </tr>\n",
       "    <tr>\n",
       "      <th>50%</th>\n",
       "      <td>3.904930e+09</td>\n",
       "      <td>4.500000e+05</td>\n",
       "      <td>3.000000</td>\n",
       "      <td>2.250000</td>\n",
       "      <td>1910.000000</td>\n",
       "      <td>7.617500e+03</td>\n",
       "      <td>1.500000</td>\n",
       "      <td>7.000000</td>\n",
       "      <td>1560.000000</td>\n",
       "      <td>0.000000</td>\n",
       "      <td>...</td>\n",
       "      <td>47.571800</td>\n",
       "      <td>-122.230000</td>\n",
       "      <td>1840.000000</td>\n",
       "      <td>7620.000000</td>\n",
       "      <td>542130.611206</td>\n",
       "      <td>5.236338e+05</td>\n",
       "      <td>43.703547</td>\n",
       "      <td>0.000042</td>\n",
       "      <td>9.575000e+03</td>\n",
       "      <td>7.000000</td>\n",
       "    </tr>\n",
       "    <tr>\n",
       "      <th>75%</th>\n",
       "      <td>7.308900e+09</td>\n",
       "      <td>6.450000e+05</td>\n",
       "      <td>4.000000</td>\n",
       "      <td>2.500000</td>\n",
       "      <td>2550.000000</td>\n",
       "      <td>1.068825e+04</td>\n",
       "      <td>2.000000</td>\n",
       "      <td>8.000000</td>\n",
       "      <td>2210.000000</td>\n",
       "      <td>560.000000</td>\n",
       "      <td>...</td>\n",
       "      <td>47.678000</td>\n",
       "      <td>-122.125000</td>\n",
       "      <td>2360.000000</td>\n",
       "      <td>10083.000000</td>\n",
       "      <td>542130.611206</td>\n",
       "      <td>6.551002e+05</td>\n",
       "      <td>50.497525</td>\n",
       "      <td>0.000049</td>\n",
       "      <td>1.300000e+04</td>\n",
       "      <td>12.500000</td>\n",
       "    </tr>\n",
       "    <tr>\n",
       "      <th>max</th>\n",
       "      <td>9.900000e+09</td>\n",
       "      <td>7.700000e+06</td>\n",
       "      <td>33.000000</td>\n",
       "      <td>8.000000</td>\n",
       "      <td>13540.000000</td>\n",
       "      <td>1.651359e+06</td>\n",
       "      <td>3.500000</td>\n",
       "      <td>10.000000</td>\n",
       "      <td>9410.000000</td>\n",
       "      <td>4820.000000</td>\n",
       "      <td>...</td>\n",
       "      <td>47.777600</td>\n",
       "      <td>-121.315000</td>\n",
       "      <td>6210.000000</td>\n",
       "      <td>871200.000000</td>\n",
       "      <td>612577.742504</td>\n",
       "      <td>2.560000e+06</td>\n",
       "      <td>116.361506</td>\n",
       "      <td>0.000061</td>\n",
       "      <td>1.652659e+06</td>\n",
       "      <td>45.000000</td>\n",
       "    </tr>\n",
       "  </tbody>\n",
       "</table>\n",
       "<p>8 rows × 23 columns</p>\n",
       "</div>"
      ],
      "text/plain": [
       "                 ID    Sale Price  No of Bedrooms  No of Bathrooms  \\\n",
       "count  2.161300e+04  2.160900e+04    21613.000000     21609.000000   \n",
       "mean   4.580302e+09  5.401984e+05        3.370842         2.114732   \n",
       "std    2.876566e+09  3.673890e+05        0.930062         0.770138   \n",
       "min    1.000102e+06  7.500000e+04        0.000000         0.000000   \n",
       "25%    2.123049e+09  3.219500e+05        3.000000         1.750000   \n",
       "50%    3.904930e+09  4.500000e+05        3.000000         2.250000   \n",
       "75%    7.308900e+09  6.450000e+05        4.000000         2.500000   \n",
       "max    9.900000e+09  7.700000e+06       33.000000         8.000000   \n",
       "\n",
       "       Flat Area (in Sqft)  Lot Area (in Sqft)  No of Floors  Overall Grade  \\\n",
       "count         21604.000000        2.160400e+04  21613.000000   21613.000000   \n",
       "mean           2079.931772        1.510776e+04      1.494309       7.623467   \n",
       "std             918.487597        4.142827e+04      0.539989       1.105439   \n",
       "min             290.000000        5.200000e+02      1.000000       1.000000   \n",
       "25%            1429.250000        5.040000e+03      1.000000       7.000000   \n",
       "50%            1910.000000        7.617500e+03      1.500000       7.000000   \n",
       "75%            2550.000000        1.068825e+04      2.000000       8.000000   \n",
       "max           13540.000000        1.651359e+06      3.500000      10.000000   \n",
       "\n",
       "       Area of the House from Basement (in Sqft)  Basement Area (in Sqft)  \\\n",
       "count                               21610.000000             21613.000000   \n",
       "mean                                 1788.344193               291.509045   \n",
       "std                                   827.982604               442.575043   \n",
       "min                                   290.000000                 0.000000   \n",
       "25%                                  1190.000000                 0.000000   \n",
       "50%                                  1560.000000                 0.000000   \n",
       "75%                                  2210.000000               560.000000   \n",
       "max                                  9410.000000              4820.000000   \n",
       "\n",
       "       ...      Latitude     Longitude  \\\n",
       "count  ...  21612.000000  21612.000000   \n",
       "mean   ...     47.560048   -122.213892   \n",
       "std    ...      0.138565      0.140830   \n",
       "min    ...     47.155900   -122.519000   \n",
       "25%    ...     47.470975   -122.328000   \n",
       "50%    ...     47.571800   -122.230000   \n",
       "75%    ...     47.678000   -122.125000   \n",
       "max    ...     47.777600   -121.315000   \n",
       "\n",
       "       Living Area after Renovation (in Sqft)  \\\n",
       "count                            21612.000000   \n",
       "mean                              1986.538914   \n",
       "std                                685.404255   \n",
       "min                                399.000000   \n",
       "25%                               1490.000000   \n",
       "50%                               1840.000000   \n",
       "75%                               2360.000000   \n",
       "max                               6210.000000   \n",
       "\n",
       "       Lot Area after Renovation (in Sqft)  condition_sale  \\\n",
       "count                         21613.000000    21613.000000   \n",
       "mean                          12768.455652   540197.828499   \n",
       "std                           27304.179631    30467.430837   \n",
       "min                             651.000000   327316.215116   \n",
       "25%                            5100.000000   521277.510567   \n",
       "50%                            7620.000000   542130.611206   \n",
       "75%                           10083.000000   542130.611206   \n",
       "max                          871200.000000   612577.742504   \n",
       "\n",
       "       zip_condition_sale   plot_length      new_rank    total_area  \\\n",
       "count        2.161300e+04  21604.000000  21613.000000  2.159500e+04   \n",
       "mean         5.401514e+05     44.597182      0.000046  1.719020e+04   \n",
       "std          2.438357e+05      9.540825      0.000007  4.160455e+04   \n",
       "min          0.000000e+00     17.029386      0.000006  1.423000e+03   \n",
       "25%          3.473329e+05     37.805419      0.000042  7.037500e+03   \n",
       "50%          5.236338e+05     43.703547      0.000042  9.575000e+03   \n",
       "75%          6.551002e+05     50.497525      0.000049  1.300000e+04   \n",
       "max          2.560000e+06    116.361506      0.000061  1.652659e+06   \n",
       "\n",
       "        total_rooms  \n",
       "count  21609.000000  \n",
       "mean       8.493203  \n",
       "std        4.380045  \n",
       "min        0.000000  \n",
       "25%        4.750000  \n",
       "50%        7.000000  \n",
       "75%       12.500000  \n",
       "max       45.000000  \n",
       "\n",
       "[8 rows x 23 columns]"
      ]
     },
     "execution_count": 26,
     "metadata": {},
     "output_type": "execute_result"
    }
   ],
   "source": [
    "data.describe()"
   ]
  },
  {
   "cell_type": "code",
   "execution_count": 27,
   "metadata": {
    "colab": {
     "base_uri": "https://localhost:8080/",
     "height": 496
    },
    "colab_type": "code",
    "executionInfo": {
     "elapsed": 1072,
     "status": "ok",
     "timestamp": 1569305270450,
     "user": {
      "displayName": "Sharoon Saxena",
      "photoUrl": "https://lh3.googleusercontent.com/a-/AAuE7mA06b2KEfgpAIC1tQCip2ka2KqXrCY2GfWW9Fww=s64",
      "userId": "01167841530696023488"
     },
     "user_tz": -330
    },
    "id": "uLm4eEIwKde1",
    "outputId": "5cb251c5-4b65-4382-e36c-838e85d0e1b4"
   },
   "outputs": [
    {
     "data": {
      "text/html": [
       "<div>\n",
       "<style scoped>\n",
       "    .dataframe tbody tr th:only-of-type {\n",
       "        vertical-align: middle;\n",
       "    }\n",
       "\n",
       "    .dataframe tbody tr th {\n",
       "        vertical-align: top;\n",
       "    }\n",
       "\n",
       "    .dataframe thead th {\n",
       "        text-align: right;\n",
       "    }\n",
       "</style>\n",
       "<table border=\"1\" class=\"dataframe\">\n",
       "  <thead>\n",
       "    <tr style=\"text-align: right;\">\n",
       "      <th></th>\n",
       "      <th>ID</th>\n",
       "      <th>Date House was Sold</th>\n",
       "      <th>Sale Price</th>\n",
       "      <th>No of Bedrooms</th>\n",
       "      <th>No of Bathrooms</th>\n",
       "      <th>Flat Area (in Sqft)</th>\n",
       "      <th>Lot Area (in Sqft)</th>\n",
       "      <th>No of Floors</th>\n",
       "      <th>Waterfront View</th>\n",
       "      <th>No of Times Visited</th>\n",
       "      <th>...</th>\n",
       "      <th>Longitude</th>\n",
       "      <th>Living Area after Renovation (in Sqft)</th>\n",
       "      <th>Lot Area after Renovation (in Sqft)</th>\n",
       "      <th>condition_sale</th>\n",
       "      <th>zip_condition_sale</th>\n",
       "      <th>plot_length</th>\n",
       "      <th>new_rank</th>\n",
       "      <th>total_area</th>\n",
       "      <th>year_sold</th>\n",
       "      <th>total_rooms</th>\n",
       "    </tr>\n",
       "  </thead>\n",
       "  <tbody>\n",
       "    <tr>\n",
       "      <th>0</th>\n",
       "      <td>7129300520</td>\n",
       "      <td>14 October 2017</td>\n",
       "      <td>221900.0</td>\n",
       "      <td>3</td>\n",
       "      <td>1.00</td>\n",
       "      <td>1180.0</td>\n",
       "      <td>5650.0</td>\n",
       "      <td>1.0</td>\n",
       "      <td>No</td>\n",
       "      <td>None</td>\n",
       "      <td>...</td>\n",
       "      <td>-122.257</td>\n",
       "      <td>1340.0</td>\n",
       "      <td>5650</td>\n",
       "      <td>542130.611206</td>\n",
       "      <td>309410.492386</td>\n",
       "      <td>34.351128</td>\n",
       "      <td>0.000042</td>\n",
       "      <td>6830.0</td>\n",
       "      <td>2017</td>\n",
       "      <td>4.0</td>\n",
       "    </tr>\n",
       "    <tr>\n",
       "      <th>1</th>\n",
       "      <td>6414100192</td>\n",
       "      <td>14 December 2017</td>\n",
       "      <td>538000.0</td>\n",
       "      <td>3</td>\n",
       "      <td>2.25</td>\n",
       "      <td>2570.0</td>\n",
       "      <td>7242.0</td>\n",
       "      <td>2.0</td>\n",
       "      <td>No</td>\n",
       "      <td>None</td>\n",
       "      <td>...</td>\n",
       "      <td>-122.319</td>\n",
       "      <td>1690.0</td>\n",
       "      <td>7639</td>\n",
       "      <td>542130.611206</td>\n",
       "      <td>457826.833898</td>\n",
       "      <td>50.695167</td>\n",
       "      <td>0.000042</td>\n",
       "      <td>9812.0</td>\n",
       "      <td>2017</td>\n",
       "      <td>10.5</td>\n",
       "    </tr>\n",
       "    <tr>\n",
       "      <th>2</th>\n",
       "      <td>5631500400</td>\n",
       "      <td>15 February 2016</td>\n",
       "      <td>180000.0</td>\n",
       "      <td>2</td>\n",
       "      <td>1.00</td>\n",
       "      <td>770.0</td>\n",
       "      <td>10000.0</td>\n",
       "      <td>1.0</td>\n",
       "      <td>No</td>\n",
       "      <td>None</td>\n",
       "      <td>...</td>\n",
       "      <td>-122.233</td>\n",
       "      <td>2720.0</td>\n",
       "      <td>8062</td>\n",
       "      <td>542130.611206</td>\n",
       "      <td>463785.870192</td>\n",
       "      <td>27.748874</td>\n",
       "      <td>0.000036</td>\n",
       "      <td>10770.0</td>\n",
       "      <td>2016</td>\n",
       "      <td>3.0</td>\n",
       "    </tr>\n",
       "    <tr>\n",
       "      <th>3</th>\n",
       "      <td>2487200875</td>\n",
       "      <td>14 December 2017</td>\n",
       "      <td>604000.0</td>\n",
       "      <td>4</td>\n",
       "      <td>3.00</td>\n",
       "      <td>1960.0</td>\n",
       "      <td>5000.0</td>\n",
       "      <td>1.0</td>\n",
       "      <td>No</td>\n",
       "      <td>None</td>\n",
       "      <td>...</td>\n",
       "      <td>-122.393</td>\n",
       "      <td>1360.0</td>\n",
       "      <td>5000</td>\n",
       "      <td>612577.742504</td>\n",
       "      <td>713929.545455</td>\n",
       "      <td>44.271887</td>\n",
       "      <td>0.000042</td>\n",
       "      <td>6960.0</td>\n",
       "      <td>2017</td>\n",
       "      <td>7.0</td>\n",
       "    </tr>\n",
       "    <tr>\n",
       "      <th>4</th>\n",
       "      <td>1954400510</td>\n",
       "      <td>15 February 2016</td>\n",
       "      <td>510000.0</td>\n",
       "      <td>3</td>\n",
       "      <td>2.00</td>\n",
       "      <td>1680.0</td>\n",
       "      <td>8080.0</td>\n",
       "      <td>1.0</td>\n",
       "      <td>No</td>\n",
       "      <td>None</td>\n",
       "      <td>...</td>\n",
       "      <td>-122.045</td>\n",
       "      <td>1800.0</td>\n",
       "      <td>7503</td>\n",
       "      <td>542130.611206</td>\n",
       "      <td>701063.688312</td>\n",
       "      <td>40.987803</td>\n",
       "      <td>0.000049</td>\n",
       "      <td>9760.0</td>\n",
       "      <td>2016</td>\n",
       "      <td>5.0</td>\n",
       "    </tr>\n",
       "  </tbody>\n",
       "</table>\n",
       "<p>5 rows × 28 columns</p>\n",
       "</div>"
      ],
      "text/plain": [
       "           ID Date House was Sold  Sale Price  No of Bedrooms  \\\n",
       "0  7129300520     14 October 2017    221900.0               3   \n",
       "1  6414100192    14 December 2017    538000.0               3   \n",
       "2  5631500400    15 February 2016    180000.0               2   \n",
       "3  2487200875    14 December 2017    604000.0               4   \n",
       "4  1954400510    15 February 2016    510000.0               3   \n",
       "\n",
       "   No of Bathrooms  Flat Area (in Sqft)  Lot Area (in Sqft)  No of Floors  \\\n",
       "0             1.00               1180.0              5650.0           1.0   \n",
       "1             2.25               2570.0              7242.0           2.0   \n",
       "2             1.00                770.0             10000.0           1.0   \n",
       "3             3.00               1960.0              5000.0           1.0   \n",
       "4             2.00               1680.0              8080.0           1.0   \n",
       "\n",
       "  Waterfront View No of Times Visited  ... Longitude  \\\n",
       "0              No                None  ...  -122.257   \n",
       "1              No                None  ...  -122.319   \n",
       "2              No                None  ...  -122.233   \n",
       "3              No                None  ...  -122.393   \n",
       "4              No                None  ...  -122.045   \n",
       "\n",
       "   Living Area after Renovation (in Sqft)  \\\n",
       "0                                  1340.0   \n",
       "1                                  1690.0   \n",
       "2                                  2720.0   \n",
       "3                                  1360.0   \n",
       "4                                  1800.0   \n",
       "\n",
       "   Lot Area after Renovation (in Sqft)  condition_sale  zip_condition_sale  \\\n",
       "0                                 5650   542130.611206       309410.492386   \n",
       "1                                 7639   542130.611206       457826.833898   \n",
       "2                                 8062   542130.611206       463785.870192   \n",
       "3                                 5000   612577.742504       713929.545455   \n",
       "4                                 7503   542130.611206       701063.688312   \n",
       "\n",
       "   plot_length  new_rank  total_area  year_sold  total_rooms  \n",
       "0    34.351128  0.000042      6830.0       2017          4.0  \n",
       "1    50.695167  0.000042      9812.0       2017         10.5  \n",
       "2    27.748874  0.000036     10770.0       2016          3.0  \n",
       "3    44.271887  0.000042      6960.0       2017          7.0  \n",
       "4    40.987803  0.000049      9760.0       2016          5.0  \n",
       "\n",
       "[5 rows x 28 columns]"
      ]
     },
     "execution_count": 27,
     "metadata": {},
     "output_type": "execute_result"
    }
   ],
   "source": [
    "data.head()"
   ]
  },
  {
   "cell_type": "code",
   "execution_count": 31,
   "metadata": {
    "colab": {
     "base_uri": "https://localhost:8080/",
     "height": 34
    },
    "colab_type": "code",
    "executionInfo": {
     "elapsed": 939100,
     "status": "ok",
     "timestamp": 1569306215806,
     "user": {
      "displayName": "Sharoon Saxena",
      "photoUrl": "https://lh3.googleusercontent.com/a-/AAuE7mA06b2KEfgpAIC1tQCip2ka2KqXrCY2GfWW9Fww=s64",
      "userId": "01167841530696023488"
     },
     "user_tz": -330
    },
    "id": "unAsNDVmGhKI",
    "outputId": "bd3c8111-3613-4e83-eea2-6f048be93d49"
   },
   "outputs": [
    {
     "data": {
      "text/plain": [
       "array(['No', 'Yes'], dtype=object)"
      ]
     },
     "execution_count": 31,
     "metadata": {},
     "output_type": "execute_result"
    }
   ],
   "source": [
    "data['luxury_home'] = 0\n",
    "\n",
    "for i in range(len(data)):\n",
    "  count = 0\n",
    "  if data['Waterfront View'][i] == 'Yes':\n",
    "    count = count+1\n",
    "  if data['Condition of the House'][i] in ['Good','Excellent']:\n",
    "    count = count+1    \n",
    "  if data['Overall Grade'][i] >= 8:\n",
    "    count = count+1\n",
    "  if count >= 2:\n",
    "    data['luxury_home'][i] = 'Yes'\n",
    "  else:\n",
    "    data['luxury_home'][i] = 'No'\n",
    "    \n",
    "data['luxury_home'].unique()"
   ]
  },
  {
   "cell_type": "code",
   "execution_count": 29,
   "metadata": {
    "colab": {
     "base_uri": "https://localhost:8080/",
     "height": 34
    },
    "colab_type": "code",
    "executionInfo": {
     "elapsed": 1398,
     "status": "ok",
     "timestamp": 1569306229311,
     "user": {
      "displayName": "Sharoon Saxena",
      "photoUrl": "https://lh3.googleusercontent.com/a-/AAuE7mA06b2KEfgpAIC1tQCip2ka2KqXrCY2GfWW9Fww=s64",
      "userId": "01167841530696023488"
     },
     "user_tz": -330
    },
    "id": "UFtNS8PoJfsy",
    "outputId": "268801d0-4592-44a1-827d-5f8033732c79"
   },
   "outputs": [
    {
     "data": {
      "text/plain": [
       "array(['No', 'Yes'], dtype=object)"
      ]
     },
     "execution_count": 29,
     "metadata": {},
     "output_type": "execute_result"
    }
   ],
   "source": [
    "def luxury_home(row):\n",
    "  count = 0\n",
    "  if row[0] =='Yes':\n",
    "    count = count+1\n",
    "  if row[1] in ['Good', 'Excellent']:\n",
    "    count = count+1\n",
    "  if row[2] >= 8:\n",
    "    count = count+1  \n",
    "  if count >= 2:\n",
    "    return 'Yes'\n",
    "  else:\n",
    "    return \"No\"\n",
    "  \n",
    "data['luxury_home'] = data[['Waterfront View','Condition of the House','Overall Grade']].apply(luxury_home, axis = 1)\n",
    "\n",
    "data['luxury_home'].unique()"
   ]
  },
  {
   "cell_type": "code",
   "execution_count": 30,
   "metadata": {
    "colab": {
     "base_uri": "https://localhost:8080/",
     "height": 34
    },
    "colab_type": "code",
    "executionInfo": {
     "elapsed": 985,
     "status": "ok",
     "timestamp": 1569306242420,
     "user": {
      "displayName": "Sharoon Saxena",
      "photoUrl": "https://lh3.googleusercontent.com/a-/AAuE7mA06b2KEfgpAIC1tQCip2ka2KqXrCY2GfWW9Fww=s64",
      "userId": "01167841530696023488"
     },
     "user_tz": -330
    },
    "id": "C1D5xb4BKj_3",
    "outputId": "b4a7e2b5-46c5-413c-918b-5b42dbbb8310"
   },
   "outputs": [
    {
     "data": {
      "text/plain": [
       "'Yes'"
      ]
     },
     "execution_count": 30,
     "metadata": {},
     "output_type": "execute_result"
    }
   ],
   "source": [
    "luxury_home(['Yes','Good', 5])"
   ]
  },
  {
   "cell_type": "code",
   "execution_count": null,
   "metadata": {
    "colab": {},
    "colab_type": "code",
    "id": "w77I2Egb8Okl"
   },
   "outputs": [],
   "source": []
  }
 ],
 "metadata": {
  "colab": {
   "collapsed_sections": [],
   "name": "Topic 5",
   "provenance": []
  },
  "kernelspec": {
   "display_name": "Python 3 (ipykernel)",
   "language": "python",
   "name": "python3"
  },
  "language_info": {
   "codemirror_mode": {
    "name": "ipython",
    "version": 3
   },
   "file_extension": ".py",
   "mimetype": "text/x-python",
   "name": "python",
   "nbconvert_exporter": "python",
   "pygments_lexer": "ipython3",
   "version": "3.9.7"
  }
 },
 "nbformat": 4,
 "nbformat_minor": 1
}
